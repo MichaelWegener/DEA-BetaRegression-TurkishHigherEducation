{
  "nbformat": 4,
  "nbformat_minor": 0,
  "metadata": {
    "colab": {
      "name": "DEA with Bootstrapping.ipynb",
      "provenance": [],
      "collapsed_sections": [],
      "authorship_tag": "ABX9TyPJ+HrwOM7lZKoout+GRHDF",
      "include_colab_link": true
    },
    "kernelspec": {
      "name": "ir",
      "display_name": "R"
    },
    "language_info": {
      "name": "R"
    }
  },
  "cells": [
    {
      "cell_type": "markdown",
      "metadata": {
        "id": "view-in-github",
        "colab_type": "text"
      },
      "source": [
        "<a href=\"https://colab.research.google.com/github/MichaelWegener/DEA-BetaRegression-TurkishHigherEducation/blob/main/DEA_with_Bootstrapping.ipynb\" target=\"_parent\"><img src=\"https://colab.research.google.com/assets/colab-badge.svg\" alt=\"Open In Colab\"/></a>"
      ]
    },
    {
      "cell_type": "markdown",
      "source": [
        "# Package Import\n",
        "> Importing and loading the necessary packages. Package *deaR* for DEA, package *betareg* for beta regression analysis.\n",
        "\n"
      ],
      "metadata": {
        "id": "R-61EnOuusWp"
      }
    },
    {
      "cell_type": "code",
      "execution_count": 17,
      "metadata": {
        "colab": {
          "base_uri": "https://localhost:8080/"
        },
        "id": "x668IKwZtrCS",
        "outputId": "384817a7-127d-47db-d87d-84d3ad0ac7f0"
      },
      "outputs": [
        {
          "output_type": "stream",
          "name": "stderr",
          "text": [
            "Installing package into ‘/usr/local/lib/R/site-library’\n",
            "(as ‘lib’ is unspecified)\n",
            "\n",
            "Installing package into ‘/usr/local/lib/R/site-library’\n",
            "(as ‘lib’ is unspecified)\n",
            "\n"
          ]
        }
      ],
      "source": [
        "install.packages(\"deaR\")\n",
        "install.packages(\"betareg\")\n",
        "\n",
        "library(deaR)\n",
        "library(betareg)"
      ]
    },
    {
      "cell_type": "markdown",
      "source": [
        "# Data Import\n",
        "> Importing the data into a deadata structure. In the original csv file, inputs are stored in columns 7, 28, 29, 30 and 31 while outputs are in columns 32, 33, and 34. The names of the DMU's are stored in column 2.\n",
        "\n",
        "\n",
        "\n"
      ],
      "metadata": {
        "id": "lHQx_6gsvKst"
      }
    },
    {
      "cell_type": "code",
      "source": [
        "my_data<-read.csv(\"https://raw.githubusercontent.com/MichaelWegener/DEA-BetaRegression-TurkishHigherEducation/main/DEA%20Bootstrapping.csv\")\n",
        "data_example<-read_data(my_data, inputs = c(7,28,29,30,31), outputs = c(32,33,34), dmus = c(2))"
      ],
      "metadata": {
        "id": "ImYXTJ9ysdtE"
      },
      "execution_count": 18,
      "outputs": []
    },
    {
      "cell_type": "markdown",
      "source": [
        "# DEA Scores and Bootstrapping\n",
        "> Running and bootstrapping DEA scores in an output-oriented DEA model with variable returns to scale. The 95% bootstrapped confidence intervals are calculated using 10000 repetitions.\n",
        "\n"
      ],
      "metadata": {
        "id": "cgn4uVTwWV_c"
      }
    },
    {
      "cell_type": "code",
      "source": [
        "results<-bootstrap_basic(datadea = data_example, rts = \"vrs\", orientation = \"oo\", B=15000, alpha = 0.05)"
      ],
      "metadata": {
        "id": "5xGJKoD5WDlb"
      },
      "execution_count": 19,
      "outputs": []
    },
    {
      "cell_type": "markdown",
      "source": [
        "\n",
        "\n",
        "> The following table lists the DEA scores for the basic output-oriented BCC model. As the scale runs from 1 to infinity, higher scores indicate higher efficiency. Scores can be transformed into the usual 0 to 1 scale by taking the inverse. \n",
        "\n"
      ],
      "metadata": {
        "id": "ePuRmCOidbqa"
      }
    },
    {
      "cell_type": "code",
      "source": [
        "results$score"
      ],
      "metadata": {
        "id": "K0JQIgUkuk5e",
        "colab": {
          "base_uri": "https://localhost:8080/",
          "height": 208
        },
        "outputId": "4154f0df-1e08-425f-d046-1d78264c2eed"
      },
      "execution_count": 20,
      "outputs": [
        {
          "output_type": "display_data",
          "data": {
            "text/html": [
              "<style>\n",
              ".dl-inline {width: auto; margin:0; padding: 0}\n",
              ".dl-inline>dt, .dl-inline>dd {float: none; width: auto; display: inline-block}\n",
              ".dl-inline>dt::after {content: \":\\0020\"; padding-right: .5ex}\n",
              ".dl-inline>dt:not(:first-of-type) {padding-left: .5ex}\n",
              "</style><dl class=dl-inline><dt>Acıbadem University</dt><dd>1</dd><dt>Adnan Menderes University</dt><dd>1.3272995091757</dd><dt>Akdeniz University</dt><dd>1.55070249272041</dd><dt>Ankara University</dt><dd>1</dd><dt>Atatürk University</dt><dd>1.26907917853633</dd><dt>Atılım University</dt><dd>1</dd><dt>Bartın University</dt><dd>1</dd><dt>Bilkent University</dt><dd>1</dd><dt>Boğazıçı University</dt><dd>1</dd><dt>Bülent Ecevit University</dt><dd>1.18711622937088</dd><dt>Canakkale University</dt><dd>1.07111660264253</dd><dt>Celal Bayar University</dt><dd>1.24381358379533</dd><dt>Cukurova Uni</dt><dd>1</dd><dt>Cumhuriyet University</dt><dd>1.26683644885514</dd><dt>December 7 University of Kilis</dt><dd>1</dd><dt>Dokuz Eylül University</dt><dd>1.31730528990641</dd><dt>Düzce University</dt><dd>1.15002930335034</dd><dt>Ege University</dt><dd>1</dd><dt>Erciyes University</dt><dd>1</dd><dt>Fırat University</dt><dd>1.60306246080177</dd><dt>Gazi University</dt><dd>1.00529110838981</dd><dt>Gaziantep University</dt><dd>1</dd><dt>Gaziosman Paşa University</dt><dd>1</dd><dt>Gebze Technical University</dt><dd>1.20454891392398</dd><dt>Hacettepe University</dt><dd>1</dd><dt>Hitit University</dt><dd>1</dd><dt>Inönü University</dt><dd>1.22994763392654</dd><dt>Istanbul Medipol University</dt><dd>1.47985272333126</dd><dt>Istanbul Technical University</dt><dd>1.19311925655228</dd><dt>Istanbul University</dt><dd>1</dd><dt>İzmir Institute of Technology</dt><dd>1</dd><dt>Izmir University of Economics</dt><dd>1</dd><dt>Karabük University</dt><dd>1.14871295171518</dd><dt>Karadeniz Technical University</dt><dd>1.48062773988615</dd><dt>Koç University</dt><dd>1</dd><dt>Kocaeli University</dt><dd>1.73590427548972</dd><dt>Marmara University</dt><dd>1</dd><dt>Mersin University</dt><dd>1</dd><dt>Middle East Technical University</dt><dd>1.04122498822932</dd><dt>Ondokuz Mayis University</dt><dd>1.35973034636136</dd><dt>Ozyegin University</dt><dd>1</dd><dt>Pamukkale University</dt><dd>1.44961699734947</dd><dt>Sabancı University</dt><dd>1</dd><dt>Sakarya University</dt><dd>1.00398555237265</dd><dt>Selcuk University</dt><dd>1.21303453434734</dd><dt>Suleyman Demirel University</dt><dd>1.36493454313639</dd><dt>TOBB University of Economics and Technology</dt><dd>1</dd><dt>Uludağ University</dt><dd>1</dd><dt>Yeditepe University</dt><dd>1</dd><dt>Yıldız Technical University</dt><dd>1.02634236651761</dd></dl>\n"
            ],
            "text/markdown": "Acıbadem University\n:   1Adnan Menderes University\n:   1.3272995091757Akdeniz University\n:   1.55070249272041Ankara University\n:   1Atatürk University\n:   1.26907917853633Atılım University\n:   1Bartın University\n:   1Bilkent University\n:   1Boğazıçı University\n:   1Bülent Ecevit University\n:   1.18711622937088Canakkale University\n:   1.07111660264253Celal Bayar University\n:   1.24381358379533Cukurova Uni\n:   1Cumhuriyet University\n:   1.26683644885514December 7 University of Kilis\n:   1Dokuz Eylül University\n:   1.31730528990641Düzce University\n:   1.15002930335034Ege University\n:   1Erciyes University\n:   1Fırat University\n:   1.60306246080177Gazi University\n:   1.00529110838981Gaziantep University\n:   1Gaziosman Paşa University\n:   1Gebze Technical University\n:   1.20454891392398Hacettepe University\n:   1Hitit University\n:   1Inönü University\n:   1.22994763392654Istanbul Medipol University\n:   1.47985272333126Istanbul Technical University\n:   1.19311925655228Istanbul University\n:   1İzmir Institute of Technology\n:   1Izmir University of Economics\n:   1Karabük University\n:   1.14871295171518Karadeniz Technical University\n:   1.48062773988615Koç University\n:   1Kocaeli University\n:   1.73590427548972Marmara University\n:   1Mersin University\n:   1Middle East Technical University\n:   1.04122498822932Ondokuz Mayis University\n:   1.35973034636136Ozyegin University\n:   1Pamukkale University\n:   1.44961699734947Sabancı University\n:   1Sakarya University\n:   1.00398555237265Selcuk University\n:   1.21303453434734Suleyman Demirel University\n:   1.36493454313639TOBB University of Economics and Technology\n:   1Uludağ University\n:   1Yeditepe University\n:   1Yıldız Technical University\n:   1.02634236651761\n\n",
            "text/latex": "\\begin{description*}\n\\item[Acıbadem University] 1\n\\item[Adnan Menderes University] 1.3272995091757\n\\item[Akdeniz University] 1.55070249272041\n\\item[Ankara University] 1\n\\item[Atatürk University] 1.26907917853633\n\\item[Atılım University] 1\n\\item[Bartın University] 1\n\\item[Bilkent University] 1\n\\item[Boğazıçı University] 1\n\\item[Bülent Ecevit University] 1.18711622937088\n\\item[Canakkale University] 1.07111660264253\n\\item[Celal Bayar University] 1.24381358379533\n\\item[Cukurova Uni] 1\n\\item[Cumhuriyet University] 1.26683644885514\n\\item[December 7 University of Kilis] 1\n\\item[Dokuz Eylül University] 1.31730528990641\n\\item[Düzce University] 1.15002930335034\n\\item[Ege University] 1\n\\item[Erciyes University] 1\n\\item[Fırat University] 1.60306246080177\n\\item[Gazi University] 1.00529110838981\n\\item[Gaziantep University] 1\n\\item[Gaziosman Paşa University] 1\n\\item[Gebze Technical University] 1.20454891392398\n\\item[Hacettepe University] 1\n\\item[Hitit University] 1\n\\item[Inönü University] 1.22994763392654\n\\item[Istanbul Medipol University] 1.47985272333126\n\\item[Istanbul Technical University] 1.19311925655228\n\\item[Istanbul University] 1\n\\item[İzmir Institute of Technology] 1\n\\item[Izmir University of Economics] 1\n\\item[Karabük University] 1.14871295171518\n\\item[Karadeniz Technical University] 1.48062773988615\n\\item[Koç University] 1\n\\item[Kocaeli University] 1.73590427548972\n\\item[Marmara University] 1\n\\item[Mersin University] 1\n\\item[Middle East Technical University] 1.04122498822932\n\\item[Ondokuz Mayis University] 1.35973034636136\n\\item[Ozyegin University] 1\n\\item[Pamukkale University] 1.44961699734947\n\\item[Sabancı University] 1\n\\item[Sakarya University] 1.00398555237265\n\\item[Selcuk University] 1.21303453434734\n\\item[Suleyman Demirel University] 1.36493454313639\n\\item[TOBB University of Economics and Technology] 1\n\\item[Uludağ University] 1\n\\item[Yeditepe University] 1\n\\item[Yıldız Technical University] 1.02634236651761\n\\end{description*}\n",
            "text/plain": [
              "                        Acıbadem University \n",
              "                                   1.000000 \n",
              "                  Adnan Menderes University \n",
              "                                   1.327300 \n",
              "                         Akdeniz University \n",
              "                                   1.550702 \n",
              "                          Ankara University \n",
              "                                   1.000000 \n",
              "                         Atatürk University \n",
              "                                   1.269079 \n",
              "                          Atılım University \n",
              "                                   1.000000 \n",
              "                          Bartın University \n",
              "                                   1.000000 \n",
              "                         Bilkent University \n",
              "                                   1.000000 \n",
              "                        Boğazıçı University \n",
              "                                   1.000000 \n",
              "                   Bülent Ecevit University \n",
              "                                   1.187116 \n",
              "                       Canakkale University \n",
              "                                   1.071117 \n",
              "                     Celal Bayar University \n",
              "                                   1.243814 \n",
              "                               Cukurova Uni \n",
              "                                   1.000000 \n",
              "                      Cumhuriyet University \n",
              "                                   1.266836 \n",
              "             December 7 University of Kilis \n",
              "                                   1.000000 \n",
              "                     Dokuz Eylül University \n",
              "                                   1.317305 \n",
              "                           Düzce University \n",
              "                                   1.150029 \n",
              "                             Ege University \n",
              "                                   1.000000 \n",
              "                         Erciyes University \n",
              "                                   1.000000 \n",
              "                           Fırat University \n",
              "                                   1.603062 \n",
              "                            Gazi University \n",
              "                                   1.005291 \n",
              "                       Gaziantep University \n",
              "                                   1.000000 \n",
              "                  Gaziosman Paşa University \n",
              "                                   1.000000 \n",
              "                 Gebze Technical University \n",
              "                                   1.204549 \n",
              "                       Hacettepe University \n",
              "                                   1.000000 \n",
              "                           Hitit University \n",
              "                                   1.000000 \n",
              "                           Inönü University \n",
              "                                   1.229948 \n",
              "                Istanbul Medipol University \n",
              "                                   1.479853 \n",
              "              Istanbul Technical University \n",
              "                                   1.193119 \n",
              "                        Istanbul University \n",
              "                                   1.000000 \n",
              "              İzmir Institute of Technology \n",
              "                                   1.000000 \n",
              "              Izmir University of Economics \n",
              "                                   1.000000 \n",
              "                         Karabük University \n",
              "                                   1.148713 \n",
              "             Karadeniz Technical University \n",
              "                                   1.480628 \n",
              "                             Koç University \n",
              "                                   1.000000 \n",
              "                         Kocaeli University \n",
              "                                   1.735904 \n",
              "                         Marmara University \n",
              "                                   1.000000 \n",
              "                          Mersin University \n",
              "                                   1.000000 \n",
              "           Middle East Technical University \n",
              "                                   1.041225 \n",
              "                   Ondokuz Mayis University \n",
              "                                   1.359730 \n",
              "                         Ozyegin University \n",
              "                                   1.000000 \n",
              "                       Pamukkale University \n",
              "                                   1.449617 \n",
              "                         Sabancı University \n",
              "                                   1.000000 \n",
              "                         Sakarya University \n",
              "                                   1.003986 \n",
              "                          Selcuk University \n",
              "                                   1.213035 \n",
              "                Suleyman Demirel University \n",
              "                                   1.364935 \n",
              "TOBB University of Economics and Technology \n",
              "                                   1.000000 \n",
              "                          Uludağ University \n",
              "                                   1.000000 \n",
              "                        Yeditepe University \n",
              "                                   1.000000 \n",
              "                Yıldız Technical University \n",
              "                                   1.026342 "
            ]
          },
          "metadata": {}
        }
      ]
    },
    {
      "cell_type": "markdown",
      "source": [
        "\n",
        "\n",
        ">A table which contains the bootstrapped 95% confidence intervals.\n",
        "\n"
      ],
      "metadata": {
        "id": "KlfrF4_-eFxw"
      }
    },
    {
      "cell_type": "code",
      "source": [
        "results$CI"
      ],
      "metadata": {
        "colab": {
          "base_uri": "https://localhost:8080/",
          "height": 1000
        },
        "id": "lWmsv6mOYRMd",
        "outputId": "9e41ec60-2379-408f-ad06-6779106808d0"
      },
      "execution_count": 21,
      "outputs": [
        {
          "output_type": "display_data",
          "data": {
            "text/html": [
              "<table class=\"dataframe\">\n",
              "<caption>A data.frame: 50 × 2</caption>\n",
              "<thead>\n",
              "\t<tr><th></th><th scope=col>CI_low</th><th scope=col>CI_up</th></tr>\n",
              "\t<tr><th></th><th scope=col>&lt;dbl&gt;</th><th scope=col>&lt;dbl&gt;</th></tr>\n",
              "</thead>\n",
              "<tbody>\n",
              "\t<tr><th scope=row>Acıbadem University</th><td>1.000797</td><td>1.378373</td></tr>\n",
              "\t<tr><th scope=row>Adnan Menderes University</th><td>1.328317</td><td>1.472031</td></tr>\n",
              "\t<tr><th scope=row>Akdeniz University</th><td>1.551933</td><td>1.740116</td></tr>\n",
              "\t<tr><th scope=row>Ankara University</th><td>1.000819</td><td>1.313749</td></tr>\n",
              "\t<tr><th scope=row>Atatürk University</th><td>1.270073</td><td>1.504537</td></tr>\n",
              "\t<tr><th scope=row>Atılım University</th><td>1.000808</td><td>1.267063</td></tr>\n",
              "\t<tr><th scope=row>Bartın University</th><td>1.000831</td><td>1.379077</td></tr>\n",
              "\t<tr><th scope=row>Bilkent University</th><td>1.000807</td><td>1.378975</td></tr>\n",
              "\t<tr><th scope=row>Boğazıçı University</th><td>1.000796</td><td>1.280041</td></tr>\n",
              "\t<tr><th scope=row>Bülent Ecevit University</th><td>1.188091</td><td>1.344406</td></tr>\n",
              "\t<tr><th scope=row>Canakkale University</th><td>1.071972</td><td>1.122290</td></tr>\n",
              "\t<tr><th scope=row>Celal Bayar University</th><td>1.244859</td><td>1.370741</td></tr>\n",
              "\t<tr><th scope=row>Cukurova Uni</th><td>1.000785</td><td>1.195770</td></tr>\n",
              "\t<tr><th scope=row>Cumhuriyet University</th><td>1.267876</td><td>1.328358</td></tr>\n",
              "\t<tr><th scope=row>December 7 University of Kilis</th><td>1.000785</td><td>1.378676</td></tr>\n",
              "\t<tr><th scope=row>Dokuz Eylül University</th><td>1.318312</td><td>1.549103</td></tr>\n",
              "\t<tr><th scope=row>Düzce University</th><td>1.150927</td><td>1.263109</td></tr>\n",
              "\t<tr><th scope=row>Ege University</th><td>1.000871</td><td>1.259344</td></tr>\n",
              "\t<tr><th scope=row>Erciyes University</th><td>1.000843</td><td>1.089793</td></tr>\n",
              "\t<tr><th scope=row>Fırat University</th><td>1.604392</td><td>1.804808</td></tr>\n",
              "\t<tr><th scope=row>Gazi University</th><td>1.006142</td><td>1.166977</td></tr>\n",
              "\t<tr><th scope=row>Gaziantep University</th><td>1.000788</td><td>1.253293</td></tr>\n",
              "\t<tr><th scope=row>Gaziosman Paşa University</th><td>1.000815</td><td>1.380356</td></tr>\n",
              "\t<tr><th scope=row>Gebze Technical University</th><td>1.205543</td><td>1.456841</td></tr>\n",
              "\t<tr><th scope=row>Hacettepe University</th><td>1.000826</td><td>1.130054</td></tr>\n",
              "\t<tr><th scope=row>Hitit University</th><td>1.000809</td><td>1.275954</td></tr>\n",
              "\t<tr><th scope=row>Inönü University</th><td>1.231006</td><td>1.359230</td></tr>\n",
              "\t<tr><th scope=row>Istanbul Medipol University</th><td>1.481018</td><td>1.619633</td></tr>\n",
              "\t<tr><th scope=row>Istanbul Technical University</th><td>1.194096</td><td>1.385814</td></tr>\n",
              "\t<tr><th scope=row>Istanbul University</th><td>1.000837</td><td>1.168187</td></tr>\n",
              "\t<tr><th scope=row>İzmir Institute of Technology</th><td>1.000793</td><td>1.380546</td></tr>\n",
              "\t<tr><th scope=row>Izmir University of Economics</th><td>1.000873</td><td>1.378355</td></tr>\n",
              "\t<tr><th scope=row>Karabük University</th><td>1.149636</td><td>1.304574</td></tr>\n",
              "\t<tr><th scope=row>Karadeniz Technical University</th><td>1.481846</td><td>1.578986</td></tr>\n",
              "\t<tr><th scope=row>Koç University</th><td>1.000748</td><td>1.255418</td></tr>\n",
              "\t<tr><th scope=row>Kocaeli University</th><td>1.737305</td><td>1.910058</td></tr>\n",
              "\t<tr><th scope=row>Marmara University</th><td>1.000766</td><td>1.379918</td></tr>\n",
              "\t<tr><th scope=row>Mersin University</th><td>1.000839</td><td>1.317507</td></tr>\n",
              "\t<tr><th scope=row>Middle East Technical University</th><td>1.042118</td><td>1.157605</td></tr>\n",
              "\t<tr><th scope=row>Ondokuz Mayis University</th><td>1.360817</td><td>1.595527</td></tr>\n",
              "\t<tr><th scope=row>Ozyegin University</th><td>1.000797</td><td>1.380502</td></tr>\n",
              "\t<tr><th scope=row>Pamukkale University</th><td>1.450811</td><td>1.689977</td></tr>\n",
              "\t<tr><th scope=row>Sabancı University</th><td>1.000826</td><td>1.379976</td></tr>\n",
              "\t<tr><th scope=row>Sakarya University</th><td>1.004735</td><td>1.091342</td></tr>\n",
              "\t<tr><th scope=row>Selcuk University</th><td>1.213944</td><td>1.347574</td></tr>\n",
              "\t<tr><th scope=row>Suleyman Demirel University</th><td>1.366051</td><td>1.438281</td></tr>\n",
              "\t<tr><th scope=row>TOBB University of Economics and Technology</th><td>1.000797</td><td>1.379066</td></tr>\n",
              "\t<tr><th scope=row>Uludağ University</th><td>1.000737</td><td>1.256493</td></tr>\n",
              "\t<tr><th scope=row>Yeditepe University</th><td>1.000768</td><td>1.379538</td></tr>\n",
              "\t<tr><th scope=row>Yıldız Technical University</th><td>1.027204</td><td>1.208691</td></tr>\n",
              "</tbody>\n",
              "</table>\n"
            ],
            "text/markdown": "\nA data.frame: 50 × 2\n\n| <!--/--> | CI_low &lt;dbl&gt; | CI_up &lt;dbl&gt; |\n|---|---|---|\n| Acıbadem University | 1.000797 | 1.378373 |\n| Adnan Menderes University | 1.328317 | 1.472031 |\n| Akdeniz University | 1.551933 | 1.740116 |\n| Ankara University | 1.000819 | 1.313749 |\n| Atatürk University | 1.270073 | 1.504537 |\n| Atılım University | 1.000808 | 1.267063 |\n| Bartın University | 1.000831 | 1.379077 |\n| Bilkent University | 1.000807 | 1.378975 |\n| Boğazıçı University | 1.000796 | 1.280041 |\n| Bülent Ecevit University | 1.188091 | 1.344406 |\n| Canakkale University | 1.071972 | 1.122290 |\n| Celal Bayar University | 1.244859 | 1.370741 |\n| Cukurova Uni | 1.000785 | 1.195770 |\n| Cumhuriyet University | 1.267876 | 1.328358 |\n| December 7 University of Kilis | 1.000785 | 1.378676 |\n| Dokuz Eylül University | 1.318312 | 1.549103 |\n| Düzce University | 1.150927 | 1.263109 |\n| Ege University | 1.000871 | 1.259344 |\n| Erciyes University | 1.000843 | 1.089793 |\n| Fırat University | 1.604392 | 1.804808 |\n| Gazi University | 1.006142 | 1.166977 |\n| Gaziantep University | 1.000788 | 1.253293 |\n| Gaziosman Paşa University | 1.000815 | 1.380356 |\n| Gebze Technical University | 1.205543 | 1.456841 |\n| Hacettepe University | 1.000826 | 1.130054 |\n| Hitit University | 1.000809 | 1.275954 |\n| Inönü University | 1.231006 | 1.359230 |\n| Istanbul Medipol University | 1.481018 | 1.619633 |\n| Istanbul Technical University | 1.194096 | 1.385814 |\n| Istanbul University | 1.000837 | 1.168187 |\n| İzmir Institute of Technology | 1.000793 | 1.380546 |\n| Izmir University of Economics | 1.000873 | 1.378355 |\n| Karabük University | 1.149636 | 1.304574 |\n| Karadeniz Technical University | 1.481846 | 1.578986 |\n| Koç University | 1.000748 | 1.255418 |\n| Kocaeli University | 1.737305 | 1.910058 |\n| Marmara University | 1.000766 | 1.379918 |\n| Mersin University | 1.000839 | 1.317507 |\n| Middle East Technical University | 1.042118 | 1.157605 |\n| Ondokuz Mayis University | 1.360817 | 1.595527 |\n| Ozyegin University | 1.000797 | 1.380502 |\n| Pamukkale University | 1.450811 | 1.689977 |\n| Sabancı University | 1.000826 | 1.379976 |\n| Sakarya University | 1.004735 | 1.091342 |\n| Selcuk University | 1.213944 | 1.347574 |\n| Suleyman Demirel University | 1.366051 | 1.438281 |\n| TOBB University of Economics and Technology | 1.000797 | 1.379066 |\n| Uludağ University | 1.000737 | 1.256493 |\n| Yeditepe University | 1.000768 | 1.379538 |\n| Yıldız Technical University | 1.027204 | 1.208691 |\n\n",
            "text/latex": "A data.frame: 50 × 2\n\\begin{tabular}{r|ll}\n  & CI\\_low & CI\\_up\\\\\n  & <dbl> & <dbl>\\\\\n\\hline\n\tAcıbadem University & 1.000797 & 1.378373\\\\\n\tAdnan Menderes University & 1.328317 & 1.472031\\\\\n\tAkdeniz University & 1.551933 & 1.740116\\\\\n\tAnkara University & 1.000819 & 1.313749\\\\\n\tAtatürk University & 1.270073 & 1.504537\\\\\n\tAtılım University & 1.000808 & 1.267063\\\\\n\tBartın University & 1.000831 & 1.379077\\\\\n\tBilkent University & 1.000807 & 1.378975\\\\\n\tBoğazıçı University & 1.000796 & 1.280041\\\\\n\tBülent Ecevit University & 1.188091 & 1.344406\\\\\n\tCanakkale University & 1.071972 & 1.122290\\\\\n\tCelal Bayar University & 1.244859 & 1.370741\\\\\n\tCukurova Uni & 1.000785 & 1.195770\\\\\n\tCumhuriyet University & 1.267876 & 1.328358\\\\\n\tDecember 7 University of Kilis & 1.000785 & 1.378676\\\\\n\tDokuz Eylül University & 1.318312 & 1.549103\\\\\n\tDüzce University & 1.150927 & 1.263109\\\\\n\tEge University & 1.000871 & 1.259344\\\\\n\tErciyes University & 1.000843 & 1.089793\\\\\n\tFırat University & 1.604392 & 1.804808\\\\\n\tGazi University & 1.006142 & 1.166977\\\\\n\tGaziantep University & 1.000788 & 1.253293\\\\\n\tGaziosman Paşa University & 1.000815 & 1.380356\\\\\n\tGebze Technical University & 1.205543 & 1.456841\\\\\n\tHacettepe University & 1.000826 & 1.130054\\\\\n\tHitit University & 1.000809 & 1.275954\\\\\n\tInönü University & 1.231006 & 1.359230\\\\\n\tIstanbul Medipol University & 1.481018 & 1.619633\\\\\n\tIstanbul Technical University & 1.194096 & 1.385814\\\\\n\tIstanbul University & 1.000837 & 1.168187\\\\\n\tİzmir Institute of Technology & 1.000793 & 1.380546\\\\\n\tIzmir University of Economics & 1.000873 & 1.378355\\\\\n\tKarabük University & 1.149636 & 1.304574\\\\\n\tKaradeniz Technical University & 1.481846 & 1.578986\\\\\n\tKoç University & 1.000748 & 1.255418\\\\\n\tKocaeli University & 1.737305 & 1.910058\\\\\n\tMarmara University & 1.000766 & 1.379918\\\\\n\tMersin University & 1.000839 & 1.317507\\\\\n\tMiddle East Technical University & 1.042118 & 1.157605\\\\\n\tOndokuz Mayis University & 1.360817 & 1.595527\\\\\n\tOzyegin University & 1.000797 & 1.380502\\\\\n\tPamukkale University & 1.450811 & 1.689977\\\\\n\tSabancı University & 1.000826 & 1.379976\\\\\n\tSakarya University & 1.004735 & 1.091342\\\\\n\tSelcuk University & 1.213944 & 1.347574\\\\\n\tSuleyman Demirel University & 1.366051 & 1.438281\\\\\n\tTOBB University of Economics and Technology & 1.000797 & 1.379066\\\\\n\tUludağ University & 1.000737 & 1.256493\\\\\n\tYeditepe University & 1.000768 & 1.379538\\\\\n\tYıldız Technical University & 1.027204 & 1.208691\\\\\n\\end{tabular}\n",
            "text/plain": [
              "                                            CI_low   CI_up   \n",
              "Acıbadem University                         1.000797 1.378373\n",
              "Adnan Menderes University                   1.328317 1.472031\n",
              "Akdeniz University                          1.551933 1.740116\n",
              "Ankara University                           1.000819 1.313749\n",
              "Atatürk University                          1.270073 1.504537\n",
              "Atılım University                           1.000808 1.267063\n",
              "Bartın University                           1.000831 1.379077\n",
              "Bilkent University                          1.000807 1.378975\n",
              "Boğazıçı University                         1.000796 1.280041\n",
              "Bülent Ecevit University                    1.188091 1.344406\n",
              "Canakkale University                        1.071972 1.122290\n",
              "Celal Bayar University                      1.244859 1.370741\n",
              "Cukurova Uni                                1.000785 1.195770\n",
              "Cumhuriyet University                       1.267876 1.328358\n",
              "December 7 University of Kilis              1.000785 1.378676\n",
              "Dokuz Eylül University                      1.318312 1.549103\n",
              "Düzce University                            1.150927 1.263109\n",
              "Ege University                              1.000871 1.259344\n",
              "Erciyes University                          1.000843 1.089793\n",
              "Fırat University                            1.604392 1.804808\n",
              "Gazi University                             1.006142 1.166977\n",
              "Gaziantep University                        1.000788 1.253293\n",
              "Gaziosman Paşa University                   1.000815 1.380356\n",
              "Gebze Technical University                  1.205543 1.456841\n",
              "Hacettepe University                        1.000826 1.130054\n",
              "Hitit University                            1.000809 1.275954\n",
              "Inönü University                            1.231006 1.359230\n",
              "Istanbul Medipol University                 1.481018 1.619633\n",
              "Istanbul Technical University               1.194096 1.385814\n",
              "Istanbul University                         1.000837 1.168187\n",
              "İzmir Institute of Technology               1.000793 1.380546\n",
              "Izmir University of Economics               1.000873 1.378355\n",
              "Karabük University                          1.149636 1.304574\n",
              "Karadeniz Technical University              1.481846 1.578986\n",
              "Koç University                              1.000748 1.255418\n",
              "Kocaeli University                          1.737305 1.910058\n",
              "Marmara University                          1.000766 1.379918\n",
              "Mersin University                           1.000839 1.317507\n",
              "Middle East Technical University            1.042118 1.157605\n",
              "Ondokuz Mayis University                    1.360817 1.595527\n",
              "Ozyegin University                          1.000797 1.380502\n",
              "Pamukkale University                        1.450811 1.689977\n",
              "Sabancı University                          1.000826 1.379976\n",
              "Sakarya University                          1.004735 1.091342\n",
              "Selcuk University                           1.213944 1.347574\n",
              "Suleyman Demirel University                 1.366051 1.438281\n",
              "TOBB University of Economics and Technology 1.000797 1.379066\n",
              "Uludağ University                           1.000737 1.256493\n",
              "Yeditepe University                         1.000768 1.379538\n",
              "Yıldız Technical University                 1.027204 1.208691"
            ]
          },
          "metadata": {}
        }
      ]
    },
    {
      "cell_type": "markdown",
      "source": [
        "\n",
        "> Calculaton of the slacks\n",
        "\n"
      ],
      "metadata": {
        "id": "qv_u78O_ak9r"
      }
    },
    {
      "cell_type": "code",
      "source": [
        "results_basic<-model_basic(datadea = data_example, rts = \"vrs\", orientation = \"oo\")\n",
        "slacks(results_basic)"
      ],
      "metadata": {
        "colab": {
          "base_uri": "https://localhost:8080/",
          "height": 1000
        },
        "id": "PJl_wZgAawo7",
        "outputId": "2875904d-8a05-4e9d-a54b-a01685a766b6"
      },
      "execution_count": 22,
      "outputs": [
        {
          "output_type": "display_data",
          "data": {
            "text/html": [
              "<dl>\n",
              "\t<dt>$slack_input</dt>\n",
              "\t\t<dd><table class=\"dataframe\">\n",
              "<caption>A matrix: 50 × 5 of type dbl</caption>\n",
              "<thead>\n",
              "\t<tr><th></th><th scope=col>InputPA</th><th scope=col>InputAvgFP</th><th scope=col>InputAvgAP</th><th scope=col>InputAvgASSP</th><th scope=col>InputAvgRA</th></tr>\n",
              "</thead>\n",
              "<tbody>\n",
              "\t<tr><th scope=row>Acıbadem University</th><td>  0.000000</td><td>  0.000000</td><td>  0.000000</td><td>  0.000000</td><td>  0.00000</td></tr>\n",
              "\t<tr><th scope=row>Adnan Menderes University</th><td>  7.345998</td><td>  0.000000</td><td>  0.000000</td><td> 63.937443</td><td> 52.13799</td></tr>\n",
              "\t<tr><th scope=row>Akdeniz University</th><td> 35.727366</td><td>  0.000000</td><td>  7.013915</td><td> 44.154685</td><td>  0.00000</td></tr>\n",
              "\t<tr><th scope=row>Ankara University</th><td>  0.000000</td><td>  0.000000</td><td>  0.000000</td><td>  0.000000</td><td>  0.00000</td></tr>\n",
              "\t<tr><th scope=row>Atatürk University</th><td>  0.000000</td><td>  6.358959</td><td>  6.824332</td><td> 69.056716</td><td> 43.19244</td></tr>\n",
              "\t<tr><th scope=row>Atılım University</th><td>  0.000000</td><td>  0.000000</td><td>  0.000000</td><td>  0.000000</td><td>  0.00000</td></tr>\n",
              "\t<tr><th scope=row>Bartın University</th><td>  0.000000</td><td>  0.000000</td><td>  0.000000</td><td>  0.000000</td><td>  0.00000</td></tr>\n",
              "\t<tr><th scope=row>Bilkent University</th><td>  0.000000</td><td>  0.000000</td><td>  0.000000</td><td>  0.000000</td><td>  0.00000</td></tr>\n",
              "\t<tr><th scope=row>Boğazıçı University</th><td>  0.000000</td><td>  0.000000</td><td>  0.000000</td><td>  0.000000</td><td>  0.00000</td></tr>\n",
              "\t<tr><th scope=row>Bülent Ecevit University</th><td>  0.000000</td><td>  0.000000</td><td> 17.258293</td><td>100.213961</td><td>156.52759</td></tr>\n",
              "\t<tr><th scope=row>Canakkale University</th><td> 17.158790</td><td>  0.000000</td><td> 64.807529</td><td>207.524832</td><td>102.50814</td></tr>\n",
              "\t<tr><th scope=row>Celal Bayar University</th><td>  0.000000</td><td> 55.000871</td><td> 38.062931</td><td> 72.827773</td><td>175.16126</td></tr>\n",
              "\t<tr><th scope=row>Cukurova Uni</th><td>  0.000000</td><td>  0.000000</td><td>  0.000000</td><td>  0.000000</td><td>  0.00000</td></tr>\n",
              "\t<tr><th scope=row>Cumhuriyet University</th><td>  3.105325</td><td>  0.000000</td><td> 24.488855</td><td>127.346203</td><td>165.78301</td></tr>\n",
              "\t<tr><th scope=row>December 7 University of Kilis</th><td>  0.000000</td><td>  0.000000</td><td>  0.000000</td><td>  0.000000</td><td>  0.00000</td></tr>\n",
              "\t<tr><th scope=row>Dokuz Eylül University</th><td> 36.193129</td><td> 76.462461</td><td> 26.905590</td><td>  0.000000</td><td>  0.00000</td></tr>\n",
              "\t<tr><th scope=row>Düzce University</th><td>  0.000000</td><td>  0.000000</td><td> 18.390329</td><td> 89.877646</td><td> 89.49479</td></tr>\n",
              "\t<tr><th scope=row>Ege University</th><td>  0.000000</td><td>  0.000000</td><td>  0.000000</td><td>  0.000000</td><td>  0.00000</td></tr>\n",
              "\t<tr><th scope=row>Erciyes University</th><td>  0.000000</td><td>  0.000000</td><td>  0.000000</td><td>  0.000000</td><td>  0.00000</td></tr>\n",
              "\t<tr><th scope=row>Fırat University</th><td>  0.000000</td><td> 49.705747</td><td>  0.000000</td><td>  0.000000</td><td> 86.86962</td></tr>\n",
              "\t<tr><th scope=row>Gazi University</th><td>  0.000000</td><td>138.607427</td><td>156.944283</td><td>  0.000000</td><td>178.35859</td></tr>\n",
              "\t<tr><th scope=row>Gaziantep University</th><td>  0.000000</td><td>  0.000000</td><td>  0.000000</td><td>  0.000000</td><td>  0.00000</td></tr>\n",
              "\t<tr><th scope=row>Gaziosman Paşa University</th><td>  0.000000</td><td>  0.000000</td><td>  0.000000</td><td>  0.000000</td><td>  0.00000</td></tr>\n",
              "\t<tr><th scope=row>Gebze Technical University</th><td>  0.000000</td><td>  9.135667</td><td>  1.806920</td><td>  0.000000</td><td> 90.54937</td></tr>\n",
              "\t<tr><th scope=row>Hacettepe University</th><td>  0.000000</td><td>  0.000000</td><td>  0.000000</td><td>  0.000000</td><td>  0.00000</td></tr>\n",
              "\t<tr><th scope=row>Hitit University</th><td>  0.000000</td><td>  0.000000</td><td>  0.000000</td><td>  0.000000</td><td>  0.00000</td></tr>\n",
              "\t<tr><th scope=row>Inönü University</th><td>  0.000000</td><td>  0.000000</td><td> 22.940892</td><td>  0.000000</td><td> 48.68534</td></tr>\n",
              "\t<tr><th scope=row>Istanbul Medipol University</th><td>  4.462654</td><td>  0.000000</td><td>  0.000000</td><td>123.072994</td><td>  0.00000</td></tr>\n",
              "\t<tr><th scope=row>Istanbul Technical University</th><td>123.207670</td><td>  0.000000</td><td> 82.658060</td><td>125.717594</td><td> 78.86379</td></tr>\n",
              "\t<tr><th scope=row>Istanbul University</th><td>  0.000000</td><td>  0.000000</td><td>  0.000000</td><td>  0.000000</td><td>  0.00000</td></tr>\n",
              "\t<tr><th scope=row>İzmir Institute of Technology</th><td>  0.000000</td><td>  0.000000</td><td>  0.000000</td><td>  0.000000</td><td>  0.00000</td></tr>\n",
              "\t<tr><th scope=row>Izmir University of Economics</th><td>  0.000000</td><td>  0.000000</td><td>  0.000000</td><td>  0.000000</td><td>  0.00000</td></tr>\n",
              "\t<tr><th scope=row>Karabük University</th><td>  0.000000</td><td>  0.000000</td><td>  8.397789</td><td>100.797801</td><td>  0.00000</td></tr>\n",
              "\t<tr><th scope=row>Karadeniz Technical University</th><td>  0.000000</td><td>  0.000000</td><td> 12.366380</td><td> 24.928286</td><td>327.20783</td></tr>\n",
              "\t<tr><th scope=row>Koç University</th><td>  0.000000</td><td>  0.000000</td><td>  0.000000</td><td>  0.000000</td><td>  0.00000</td></tr>\n",
              "\t<tr><th scope=row>Kocaeli University</th><td>  0.000000</td><td>  0.000000</td><td> 39.548432</td><td>115.973816</td><td>101.24355</td></tr>\n",
              "\t<tr><th scope=row>Marmara University</th><td>  0.000000</td><td>  0.000000</td><td>  0.000000</td><td>  0.000000</td><td>  0.00000</td></tr>\n",
              "\t<tr><th scope=row>Mersin University</th><td>  0.000000</td><td>  0.000000</td><td>  0.000000</td><td>  0.000000</td><td>  0.00000</td></tr>\n",
              "\t<tr><th scope=row>Middle East Technical University</th><td>263.208739</td><td>  0.000000</td><td>  0.000000</td><td>  0.000000</td><td>216.11882</td></tr>\n",
              "\t<tr><th scope=row>Ondokuz Mayis University</th><td>  0.000000</td><td>  0.000000</td><td> 35.994723</td><td>  0.000000</td><td>222.30569</td></tr>\n",
              "\t<tr><th scope=row>Ozyegin University</th><td>  0.000000</td><td>  0.000000</td><td>  0.000000</td><td>  0.000000</td><td>  0.00000</td></tr>\n",
              "\t<tr><th scope=row>Pamukkale University</th><td>  0.000000</td><td>  0.000000</td><td> 50.738548</td><td>  3.401275</td><td> 42.39870</td></tr>\n",
              "\t<tr><th scope=row>Sabancı University</th><td>  0.000000</td><td>  0.000000</td><td>  0.000000</td><td>  0.000000</td><td>  0.00000</td></tr>\n",
              "\t<tr><th scope=row>Sakarya University</th><td>  5.402703</td><td>  0.000000</td><td> 53.972973</td><td>166.864865</td><td> 59.21622</td></tr>\n",
              "\t<tr><th scope=row>Selcuk University</th><td> 21.357907</td><td>  0.000000</td><td> 12.167030</td><td>  2.281418</td><td>165.50729</td></tr>\n",
              "\t<tr><th scope=row>Suleyman Demirel University</th><td> 30.995800</td><td>  0.000000</td><td> 40.259362</td><td>112.648978</td><td>182.89010</td></tr>\n",
              "\t<tr><th scope=row>TOBB University of Economics and Technology</th><td>  0.000000</td><td>  0.000000</td><td>  0.000000</td><td>  0.000000</td><td>  0.00000</td></tr>\n",
              "\t<tr><th scope=row>Uludağ University</th><td>  0.000000</td><td>  0.000000</td><td>  0.000000</td><td>  0.000000</td><td>  0.00000</td></tr>\n",
              "\t<tr><th scope=row>Yeditepe University</th><td>  0.000000</td><td>  0.000000</td><td>  0.000000</td><td>  0.000000</td><td>  0.00000</td></tr>\n",
              "\t<tr><th scope=row>Yıldız Technical University</th><td>  0.000000</td><td>  4.065451</td><td> 84.791000</td><td>107.478905</td><td>  0.00000</td></tr>\n",
              "</tbody>\n",
              "</table>\n",
              "</dd>\n",
              "\t<dt>$slack_output</dt>\n",
              "\t\t<dd><table class=\"dataframe\">\n",
              "<caption>A matrix: 50 × 3 of type dbl</caption>\n",
              "<thead>\n",
              "\t<tr><th></th><th scope=col>OutputHI</th><th scope=col>OutputTA</th><th scope=col>OutputGP</th></tr>\n",
              "</thead>\n",
              "<tbody>\n",
              "\t<tr><th scope=row>Acıbadem University</th><td> 0.000000</td><td>  0.000000</td><td> 0.00000</td></tr>\n",
              "\t<tr><th scope=row>Adnan Menderes University</th><td> 9.541523</td><td>204.747712</td><td> 0.00000</td></tr>\n",
              "\t<tr><th scope=row>Akdeniz University</th><td> 0.000000</td><td>  0.000000</td><td> 0.00000</td></tr>\n",
              "\t<tr><th scope=row>Ankara University</th><td> 0.000000</td><td>  0.000000</td><td> 0.00000</td></tr>\n",
              "\t<tr><th scope=row>Atatürk University</th><td> 0.000000</td><td>183.880384</td><td> 0.00000</td></tr>\n",
              "\t<tr><th scope=row>Atılım University</th><td> 0.000000</td><td>  0.000000</td><td> 0.00000</td></tr>\n",
              "\t<tr><th scope=row>Bartın University</th><td> 0.000000</td><td>  0.000000</td><td> 0.00000</td></tr>\n",
              "\t<tr><th scope=row>Bilkent University</th><td> 0.000000</td><td>  0.000000</td><td> 0.00000</td></tr>\n",
              "\t<tr><th scope=row>Boğazıçı University</th><td> 0.000000</td><td>  0.000000</td><td> 0.00000</td></tr>\n",
              "\t<tr><th scope=row>Bülent Ecevit University</th><td> 0.000000</td><td>  9.685097</td><td> 0.00000</td></tr>\n",
              "\t<tr><th scope=row>Canakkale University</th><td> 9.569860</td><td>  0.000000</td><td> 0.00000</td></tr>\n",
              "\t<tr><th scope=row>Celal Bayar University</th><td> 0.000000</td><td>  0.000000</td><td> 0.00000</td></tr>\n",
              "\t<tr><th scope=row>Cukurova Uni</th><td> 0.000000</td><td>  0.000000</td><td> 0.00000</td></tr>\n",
              "\t<tr><th scope=row>Cumhuriyet University</th><td> 0.000000</td><td>218.654685</td><td> 0.00000</td></tr>\n",
              "\t<tr><th scope=row>December 7 University of Kilis</th><td> 0.000000</td><td>  0.000000</td><td> 0.00000</td></tr>\n",
              "\t<tr><th scope=row>Dokuz Eylül University</th><td> 0.000000</td><td>121.366930</td><td> 0.00000</td></tr>\n",
              "\t<tr><th scope=row>Düzce University</th><td> 0.000000</td><td> 56.195593</td><td> 0.00000</td></tr>\n",
              "\t<tr><th scope=row>Ege University</th><td> 0.000000</td><td>  0.000000</td><td> 0.00000</td></tr>\n",
              "\t<tr><th scope=row>Erciyes University</th><td> 0.000000</td><td>  0.000000</td><td> 0.00000</td></tr>\n",
              "\t<tr><th scope=row>Fırat University</th><td> 0.000000</td><td> 99.238937</td><td> 0.00000</td></tr>\n",
              "\t<tr><th scope=row>Gazi University</th><td>10.968622</td><td>  0.000000</td><td> 0.00000</td></tr>\n",
              "\t<tr><th scope=row>Gaziantep University</th><td> 0.000000</td><td>  0.000000</td><td> 0.00000</td></tr>\n",
              "\t<tr><th scope=row>Gaziosman Paşa University</th><td> 0.000000</td><td>  0.000000</td><td> 0.00000</td></tr>\n",
              "\t<tr><th scope=row>Gebze Technical University</th><td> 5.811918</td><td>  0.000000</td><td> 0.00000</td></tr>\n",
              "\t<tr><th scope=row>Hacettepe University</th><td> 0.000000</td><td>  0.000000</td><td> 0.00000</td></tr>\n",
              "\t<tr><th scope=row>Hitit University</th><td> 0.000000</td><td>  0.000000</td><td> 0.00000</td></tr>\n",
              "\t<tr><th scope=row>Inönü University</th><td> 2.695660</td><td> 34.846980</td><td> 0.00000</td></tr>\n",
              "\t<tr><th scope=row>Istanbul Medipol University</th><td> 6.009637</td><td>263.494290</td><td> 0.00000</td></tr>\n",
              "\t<tr><th scope=row>Istanbul Technical University</th><td> 0.000000</td><td>238.277997</td><td> 0.00000</td></tr>\n",
              "\t<tr><th scope=row>Istanbul University</th><td> 0.000000</td><td>  0.000000</td><td> 0.00000</td></tr>\n",
              "\t<tr><th scope=row>İzmir Institute of Technology</th><td> 0.000000</td><td>  0.000000</td><td> 0.00000</td></tr>\n",
              "\t<tr><th scope=row>Izmir University of Economics</th><td> 0.000000</td><td>  0.000000</td><td> 0.00000</td></tr>\n",
              "\t<tr><th scope=row>Karabük University</th><td> 0.000000</td><td> 22.385146</td><td> 0.00000</td></tr>\n",
              "\t<tr><th scope=row>Karadeniz Technical University</th><td> 0.000000</td><td>  0.000000</td><td>71.88312</td></tr>\n",
              "\t<tr><th scope=row>Koç University</th><td> 0.000000</td><td>  0.000000</td><td> 0.00000</td></tr>\n",
              "\t<tr><th scope=row>Kocaeli University</th><td> 0.000000</td><td>  0.000000</td><td> 0.00000</td></tr>\n",
              "\t<tr><th scope=row>Marmara University</th><td> 0.000000</td><td>  0.000000</td><td> 0.00000</td></tr>\n",
              "\t<tr><th scope=row>Mersin University</th><td> 0.000000</td><td>  0.000000</td><td> 0.00000</td></tr>\n",
              "\t<tr><th scope=row>Middle East Technical University</th><td> 0.000000</td><td>326.840984</td><td> 0.00000</td></tr>\n",
              "\t<tr><th scope=row>Ondokuz Mayis University</th><td> 1.688129</td><td> 82.514318</td><td> 0.00000</td></tr>\n",
              "\t<tr><th scope=row>Ozyegin University</th><td> 0.000000</td><td>  0.000000</td><td> 0.00000</td></tr>\n",
              "\t<tr><th scope=row>Pamukkale University</th><td> 0.000000</td><td> 11.415377</td><td> 0.00000</td></tr>\n",
              "\t<tr><th scope=row>Sabancı University</th><td> 0.000000</td><td>  0.000000</td><td> 0.00000</td></tr>\n",
              "\t<tr><th scope=row>Sakarya University</th><td> 1.215843</td><td>129.411633</td><td> 0.00000</td></tr>\n",
              "\t<tr><th scope=row>Selcuk University</th><td> 0.000000</td><td>117.373395</td><td> 0.00000</td></tr>\n",
              "\t<tr><th scope=row>Suleyman Demirel University</th><td> 3.052177</td><td>  0.000000</td><td> 0.00000</td></tr>\n",
              "\t<tr><th scope=row>TOBB University of Economics and Technology</th><td> 0.000000</td><td>  0.000000</td><td> 0.00000</td></tr>\n",
              "\t<tr><th scope=row>Uludağ University</th><td> 0.000000</td><td>  0.000000</td><td> 0.00000</td></tr>\n",
              "\t<tr><th scope=row>Yeditepe University</th><td> 0.000000</td><td>  0.000000</td><td> 0.00000</td></tr>\n",
              "\t<tr><th scope=row>Yıldız Technical University</th><td> 0.000000</td><td>  0.000000</td><td>22.29645</td></tr>\n",
              "</tbody>\n",
              "</table>\n",
              "</dd>\n",
              "</dl>\n"
            ],
            "text/markdown": "$slack_input\n:   \nA matrix: 50 × 5 of type dbl\n\n| <!--/--> | InputPA | InputAvgFP | InputAvgAP | InputAvgASSP | InputAvgRA |\n|---|---|---|---|---|---|\n| Acıbadem University |   0.000000 |   0.000000 |   0.000000 |   0.000000 |   0.00000 |\n| Adnan Menderes University |   7.345998 |   0.000000 |   0.000000 |  63.937443 |  52.13799 |\n| Akdeniz University |  35.727366 |   0.000000 |   7.013915 |  44.154685 |   0.00000 |\n| Ankara University |   0.000000 |   0.000000 |   0.000000 |   0.000000 |   0.00000 |\n| Atatürk University |   0.000000 |   6.358959 |   6.824332 |  69.056716 |  43.19244 |\n| Atılım University |   0.000000 |   0.000000 |   0.000000 |   0.000000 |   0.00000 |\n| Bartın University |   0.000000 |   0.000000 |   0.000000 |   0.000000 |   0.00000 |\n| Bilkent University |   0.000000 |   0.000000 |   0.000000 |   0.000000 |   0.00000 |\n| Boğazıçı University |   0.000000 |   0.000000 |   0.000000 |   0.000000 |   0.00000 |\n| Bülent Ecevit University |   0.000000 |   0.000000 |  17.258293 | 100.213961 | 156.52759 |\n| Canakkale University |  17.158790 |   0.000000 |  64.807529 | 207.524832 | 102.50814 |\n| Celal Bayar University |   0.000000 |  55.000871 |  38.062931 |  72.827773 | 175.16126 |\n| Cukurova Uni |   0.000000 |   0.000000 |   0.000000 |   0.000000 |   0.00000 |\n| Cumhuriyet University |   3.105325 |   0.000000 |  24.488855 | 127.346203 | 165.78301 |\n| December 7 University of Kilis |   0.000000 |   0.000000 |   0.000000 |   0.000000 |   0.00000 |\n| Dokuz Eylül University |  36.193129 |  76.462461 |  26.905590 |   0.000000 |   0.00000 |\n| Düzce University |   0.000000 |   0.000000 |  18.390329 |  89.877646 |  89.49479 |\n| Ege University |   0.000000 |   0.000000 |   0.000000 |   0.000000 |   0.00000 |\n| Erciyes University |   0.000000 |   0.000000 |   0.000000 |   0.000000 |   0.00000 |\n| Fırat University |   0.000000 |  49.705747 |   0.000000 |   0.000000 |  86.86962 |\n| Gazi University |   0.000000 | 138.607427 | 156.944283 |   0.000000 | 178.35859 |\n| Gaziantep University |   0.000000 |   0.000000 |   0.000000 |   0.000000 |   0.00000 |\n| Gaziosman Paşa University |   0.000000 |   0.000000 |   0.000000 |   0.000000 |   0.00000 |\n| Gebze Technical University |   0.000000 |   9.135667 |   1.806920 |   0.000000 |  90.54937 |\n| Hacettepe University |   0.000000 |   0.000000 |   0.000000 |   0.000000 |   0.00000 |\n| Hitit University |   0.000000 |   0.000000 |   0.000000 |   0.000000 |   0.00000 |\n| Inönü University |   0.000000 |   0.000000 |  22.940892 |   0.000000 |  48.68534 |\n| Istanbul Medipol University |   4.462654 |   0.000000 |   0.000000 | 123.072994 |   0.00000 |\n| Istanbul Technical University | 123.207670 |   0.000000 |  82.658060 | 125.717594 |  78.86379 |\n| Istanbul University |   0.000000 |   0.000000 |   0.000000 |   0.000000 |   0.00000 |\n| İzmir Institute of Technology |   0.000000 |   0.000000 |   0.000000 |   0.000000 |   0.00000 |\n| Izmir University of Economics |   0.000000 |   0.000000 |   0.000000 |   0.000000 |   0.00000 |\n| Karabük University |   0.000000 |   0.000000 |   8.397789 | 100.797801 |   0.00000 |\n| Karadeniz Technical University |   0.000000 |   0.000000 |  12.366380 |  24.928286 | 327.20783 |\n| Koç University |   0.000000 |   0.000000 |   0.000000 |   0.000000 |   0.00000 |\n| Kocaeli University |   0.000000 |   0.000000 |  39.548432 | 115.973816 | 101.24355 |\n| Marmara University |   0.000000 |   0.000000 |   0.000000 |   0.000000 |   0.00000 |\n| Mersin University |   0.000000 |   0.000000 |   0.000000 |   0.000000 |   0.00000 |\n| Middle East Technical University | 263.208739 |   0.000000 |   0.000000 |   0.000000 | 216.11882 |\n| Ondokuz Mayis University |   0.000000 |   0.000000 |  35.994723 |   0.000000 | 222.30569 |\n| Ozyegin University |   0.000000 |   0.000000 |   0.000000 |   0.000000 |   0.00000 |\n| Pamukkale University |   0.000000 |   0.000000 |  50.738548 |   3.401275 |  42.39870 |\n| Sabancı University |   0.000000 |   0.000000 |   0.000000 |   0.000000 |   0.00000 |\n| Sakarya University |   5.402703 |   0.000000 |  53.972973 | 166.864865 |  59.21622 |\n| Selcuk University |  21.357907 |   0.000000 |  12.167030 |   2.281418 | 165.50729 |\n| Suleyman Demirel University |  30.995800 |   0.000000 |  40.259362 | 112.648978 | 182.89010 |\n| TOBB University of Economics and Technology |   0.000000 |   0.000000 |   0.000000 |   0.000000 |   0.00000 |\n| Uludağ University |   0.000000 |   0.000000 |   0.000000 |   0.000000 |   0.00000 |\n| Yeditepe University |   0.000000 |   0.000000 |   0.000000 |   0.000000 |   0.00000 |\n| Yıldız Technical University |   0.000000 |   4.065451 |  84.791000 | 107.478905 |   0.00000 |\n\n\n$slack_output\n:   \nA matrix: 50 × 3 of type dbl\n\n| <!--/--> | OutputHI | OutputTA | OutputGP |\n|---|---|---|---|\n| Acıbadem University |  0.000000 |   0.000000 |  0.00000 |\n| Adnan Menderes University |  9.541523 | 204.747712 |  0.00000 |\n| Akdeniz University |  0.000000 |   0.000000 |  0.00000 |\n| Ankara University |  0.000000 |   0.000000 |  0.00000 |\n| Atatürk University |  0.000000 | 183.880384 |  0.00000 |\n| Atılım University |  0.000000 |   0.000000 |  0.00000 |\n| Bartın University |  0.000000 |   0.000000 |  0.00000 |\n| Bilkent University |  0.000000 |   0.000000 |  0.00000 |\n| Boğazıçı University |  0.000000 |   0.000000 |  0.00000 |\n| Bülent Ecevit University |  0.000000 |   9.685097 |  0.00000 |\n| Canakkale University |  9.569860 |   0.000000 |  0.00000 |\n| Celal Bayar University |  0.000000 |   0.000000 |  0.00000 |\n| Cukurova Uni |  0.000000 |   0.000000 |  0.00000 |\n| Cumhuriyet University |  0.000000 | 218.654685 |  0.00000 |\n| December 7 University of Kilis |  0.000000 |   0.000000 |  0.00000 |\n| Dokuz Eylül University |  0.000000 | 121.366930 |  0.00000 |\n| Düzce University |  0.000000 |  56.195593 |  0.00000 |\n| Ege University |  0.000000 |   0.000000 |  0.00000 |\n| Erciyes University |  0.000000 |   0.000000 |  0.00000 |\n| Fırat University |  0.000000 |  99.238937 |  0.00000 |\n| Gazi University | 10.968622 |   0.000000 |  0.00000 |\n| Gaziantep University |  0.000000 |   0.000000 |  0.00000 |\n| Gaziosman Paşa University |  0.000000 |   0.000000 |  0.00000 |\n| Gebze Technical University |  5.811918 |   0.000000 |  0.00000 |\n| Hacettepe University |  0.000000 |   0.000000 |  0.00000 |\n| Hitit University |  0.000000 |   0.000000 |  0.00000 |\n| Inönü University |  2.695660 |  34.846980 |  0.00000 |\n| Istanbul Medipol University |  6.009637 | 263.494290 |  0.00000 |\n| Istanbul Technical University |  0.000000 | 238.277997 |  0.00000 |\n| Istanbul University |  0.000000 |   0.000000 |  0.00000 |\n| İzmir Institute of Technology |  0.000000 |   0.000000 |  0.00000 |\n| Izmir University of Economics |  0.000000 |   0.000000 |  0.00000 |\n| Karabük University |  0.000000 |  22.385146 |  0.00000 |\n| Karadeniz Technical University |  0.000000 |   0.000000 | 71.88312 |\n| Koç University |  0.000000 |   0.000000 |  0.00000 |\n| Kocaeli University |  0.000000 |   0.000000 |  0.00000 |\n| Marmara University |  0.000000 |   0.000000 |  0.00000 |\n| Mersin University |  0.000000 |   0.000000 |  0.00000 |\n| Middle East Technical University |  0.000000 | 326.840984 |  0.00000 |\n| Ondokuz Mayis University |  1.688129 |  82.514318 |  0.00000 |\n| Ozyegin University |  0.000000 |   0.000000 |  0.00000 |\n| Pamukkale University |  0.000000 |  11.415377 |  0.00000 |\n| Sabancı University |  0.000000 |   0.000000 |  0.00000 |\n| Sakarya University |  1.215843 | 129.411633 |  0.00000 |\n| Selcuk University |  0.000000 | 117.373395 |  0.00000 |\n| Suleyman Demirel University |  3.052177 |   0.000000 |  0.00000 |\n| TOBB University of Economics and Technology |  0.000000 |   0.000000 |  0.00000 |\n| Uludağ University |  0.000000 |   0.000000 |  0.00000 |\n| Yeditepe University |  0.000000 |   0.000000 |  0.00000 |\n| Yıldız Technical University |  0.000000 |   0.000000 | 22.29645 |\n\n\n\n\n",
            "text/latex": "\\begin{description}\n\\item[\\$slack\\_input] A matrix: 50 × 5 of type dbl\n\\begin{tabular}{r|lllll}\n  & InputPA & InputAvgFP & InputAvgAP & InputAvgASSP & InputAvgRA\\\\\n\\hline\n\tAcıbadem University &   0.000000 &   0.000000 &   0.000000 &   0.000000 &   0.00000\\\\\n\tAdnan Menderes University &   7.345998 &   0.000000 &   0.000000 &  63.937443 &  52.13799\\\\\n\tAkdeniz University &  35.727366 &   0.000000 &   7.013915 &  44.154685 &   0.00000\\\\\n\tAnkara University &   0.000000 &   0.000000 &   0.000000 &   0.000000 &   0.00000\\\\\n\tAtatürk University &   0.000000 &   6.358959 &   6.824332 &  69.056716 &  43.19244\\\\\n\tAtılım University &   0.000000 &   0.000000 &   0.000000 &   0.000000 &   0.00000\\\\\n\tBartın University &   0.000000 &   0.000000 &   0.000000 &   0.000000 &   0.00000\\\\\n\tBilkent University &   0.000000 &   0.000000 &   0.000000 &   0.000000 &   0.00000\\\\\n\tBoğazıçı University &   0.000000 &   0.000000 &   0.000000 &   0.000000 &   0.00000\\\\\n\tBülent Ecevit University &   0.000000 &   0.000000 &  17.258293 & 100.213961 & 156.52759\\\\\n\tCanakkale University &  17.158790 &   0.000000 &  64.807529 & 207.524832 & 102.50814\\\\\n\tCelal Bayar University &   0.000000 &  55.000871 &  38.062931 &  72.827773 & 175.16126\\\\\n\tCukurova Uni &   0.000000 &   0.000000 &   0.000000 &   0.000000 &   0.00000\\\\\n\tCumhuriyet University &   3.105325 &   0.000000 &  24.488855 & 127.346203 & 165.78301\\\\\n\tDecember 7 University of Kilis &   0.000000 &   0.000000 &   0.000000 &   0.000000 &   0.00000\\\\\n\tDokuz Eylül University &  36.193129 &  76.462461 &  26.905590 &   0.000000 &   0.00000\\\\\n\tDüzce University &   0.000000 &   0.000000 &  18.390329 &  89.877646 &  89.49479\\\\\n\tEge University &   0.000000 &   0.000000 &   0.000000 &   0.000000 &   0.00000\\\\\n\tErciyes University &   0.000000 &   0.000000 &   0.000000 &   0.000000 &   0.00000\\\\\n\tFırat University &   0.000000 &  49.705747 &   0.000000 &   0.000000 &  86.86962\\\\\n\tGazi University &   0.000000 & 138.607427 & 156.944283 &   0.000000 & 178.35859\\\\\n\tGaziantep University &   0.000000 &   0.000000 &   0.000000 &   0.000000 &   0.00000\\\\\n\tGaziosman Paşa University &   0.000000 &   0.000000 &   0.000000 &   0.000000 &   0.00000\\\\\n\tGebze Technical University &   0.000000 &   9.135667 &   1.806920 &   0.000000 &  90.54937\\\\\n\tHacettepe University &   0.000000 &   0.000000 &   0.000000 &   0.000000 &   0.00000\\\\\n\tHitit University &   0.000000 &   0.000000 &   0.000000 &   0.000000 &   0.00000\\\\\n\tInönü University &   0.000000 &   0.000000 &  22.940892 &   0.000000 &  48.68534\\\\\n\tIstanbul Medipol University &   4.462654 &   0.000000 &   0.000000 & 123.072994 &   0.00000\\\\\n\tIstanbul Technical University & 123.207670 &   0.000000 &  82.658060 & 125.717594 &  78.86379\\\\\n\tIstanbul University &   0.000000 &   0.000000 &   0.000000 &   0.000000 &   0.00000\\\\\n\tİzmir Institute of Technology &   0.000000 &   0.000000 &   0.000000 &   0.000000 &   0.00000\\\\\n\tIzmir University of Economics &   0.000000 &   0.000000 &   0.000000 &   0.000000 &   0.00000\\\\\n\tKarabük University &   0.000000 &   0.000000 &   8.397789 & 100.797801 &   0.00000\\\\\n\tKaradeniz Technical University &   0.000000 &   0.000000 &  12.366380 &  24.928286 & 327.20783\\\\\n\tKoç University &   0.000000 &   0.000000 &   0.000000 &   0.000000 &   0.00000\\\\\n\tKocaeli University &   0.000000 &   0.000000 &  39.548432 & 115.973816 & 101.24355\\\\\n\tMarmara University &   0.000000 &   0.000000 &   0.000000 &   0.000000 &   0.00000\\\\\n\tMersin University &   0.000000 &   0.000000 &   0.000000 &   0.000000 &   0.00000\\\\\n\tMiddle East Technical University & 263.208739 &   0.000000 &   0.000000 &   0.000000 & 216.11882\\\\\n\tOndokuz Mayis University &   0.000000 &   0.000000 &  35.994723 &   0.000000 & 222.30569\\\\\n\tOzyegin University &   0.000000 &   0.000000 &   0.000000 &   0.000000 &   0.00000\\\\\n\tPamukkale University &   0.000000 &   0.000000 &  50.738548 &   3.401275 &  42.39870\\\\\n\tSabancı University &   0.000000 &   0.000000 &   0.000000 &   0.000000 &   0.00000\\\\\n\tSakarya University &   5.402703 &   0.000000 &  53.972973 & 166.864865 &  59.21622\\\\\n\tSelcuk University &  21.357907 &   0.000000 &  12.167030 &   2.281418 & 165.50729\\\\\n\tSuleyman Demirel University &  30.995800 &   0.000000 &  40.259362 & 112.648978 & 182.89010\\\\\n\tTOBB University of Economics and Technology &   0.000000 &   0.000000 &   0.000000 &   0.000000 &   0.00000\\\\\n\tUludağ University &   0.000000 &   0.000000 &   0.000000 &   0.000000 &   0.00000\\\\\n\tYeditepe University &   0.000000 &   0.000000 &   0.000000 &   0.000000 &   0.00000\\\\\n\tYıldız Technical University &   0.000000 &   4.065451 &  84.791000 & 107.478905 &   0.00000\\\\\n\\end{tabular}\n\n\\item[\\$slack\\_output] A matrix: 50 × 3 of type dbl\n\\begin{tabular}{r|lll}\n  & OutputHI & OutputTA & OutputGP\\\\\n\\hline\n\tAcıbadem University &  0.000000 &   0.000000 &  0.00000\\\\\n\tAdnan Menderes University &  9.541523 & 204.747712 &  0.00000\\\\\n\tAkdeniz University &  0.000000 &   0.000000 &  0.00000\\\\\n\tAnkara University &  0.000000 &   0.000000 &  0.00000\\\\\n\tAtatürk University &  0.000000 & 183.880384 &  0.00000\\\\\n\tAtılım University &  0.000000 &   0.000000 &  0.00000\\\\\n\tBartın University &  0.000000 &   0.000000 &  0.00000\\\\\n\tBilkent University &  0.000000 &   0.000000 &  0.00000\\\\\n\tBoğazıçı University &  0.000000 &   0.000000 &  0.00000\\\\\n\tBülent Ecevit University &  0.000000 &   9.685097 &  0.00000\\\\\n\tCanakkale University &  9.569860 &   0.000000 &  0.00000\\\\\n\tCelal Bayar University &  0.000000 &   0.000000 &  0.00000\\\\\n\tCukurova Uni &  0.000000 &   0.000000 &  0.00000\\\\\n\tCumhuriyet University &  0.000000 & 218.654685 &  0.00000\\\\\n\tDecember 7 University of Kilis &  0.000000 &   0.000000 &  0.00000\\\\\n\tDokuz Eylül University &  0.000000 & 121.366930 &  0.00000\\\\\n\tDüzce University &  0.000000 &  56.195593 &  0.00000\\\\\n\tEge University &  0.000000 &   0.000000 &  0.00000\\\\\n\tErciyes University &  0.000000 &   0.000000 &  0.00000\\\\\n\tFırat University &  0.000000 &  99.238937 &  0.00000\\\\\n\tGazi University & 10.968622 &   0.000000 &  0.00000\\\\\n\tGaziantep University &  0.000000 &   0.000000 &  0.00000\\\\\n\tGaziosman Paşa University &  0.000000 &   0.000000 &  0.00000\\\\\n\tGebze Technical University &  5.811918 &   0.000000 &  0.00000\\\\\n\tHacettepe University &  0.000000 &   0.000000 &  0.00000\\\\\n\tHitit University &  0.000000 &   0.000000 &  0.00000\\\\\n\tInönü University &  2.695660 &  34.846980 &  0.00000\\\\\n\tIstanbul Medipol University &  6.009637 & 263.494290 &  0.00000\\\\\n\tIstanbul Technical University &  0.000000 & 238.277997 &  0.00000\\\\\n\tIstanbul University &  0.000000 &   0.000000 &  0.00000\\\\\n\tİzmir Institute of Technology &  0.000000 &   0.000000 &  0.00000\\\\\n\tIzmir University of Economics &  0.000000 &   0.000000 &  0.00000\\\\\n\tKarabük University &  0.000000 &  22.385146 &  0.00000\\\\\n\tKaradeniz Technical University &  0.000000 &   0.000000 & 71.88312\\\\\n\tKoç University &  0.000000 &   0.000000 &  0.00000\\\\\n\tKocaeli University &  0.000000 &   0.000000 &  0.00000\\\\\n\tMarmara University &  0.000000 &   0.000000 &  0.00000\\\\\n\tMersin University &  0.000000 &   0.000000 &  0.00000\\\\\n\tMiddle East Technical University &  0.000000 & 326.840984 &  0.00000\\\\\n\tOndokuz Mayis University &  1.688129 &  82.514318 &  0.00000\\\\\n\tOzyegin University &  0.000000 &   0.000000 &  0.00000\\\\\n\tPamukkale University &  0.000000 &  11.415377 &  0.00000\\\\\n\tSabancı University &  0.000000 &   0.000000 &  0.00000\\\\\n\tSakarya University &  1.215843 & 129.411633 &  0.00000\\\\\n\tSelcuk University &  0.000000 & 117.373395 &  0.00000\\\\\n\tSuleyman Demirel University &  3.052177 &   0.000000 &  0.00000\\\\\n\tTOBB University of Economics and Technology &  0.000000 &   0.000000 &  0.00000\\\\\n\tUludağ University &  0.000000 &   0.000000 &  0.00000\\\\\n\tYeditepe University &  0.000000 &   0.000000 &  0.00000\\\\\n\tYıldız Technical University &  0.000000 &   0.000000 & 22.29645\\\\\n\\end{tabular}\n\n\\end{description}\n",
            "text/plain": [
              "$slack_input\n",
              "                                               InputPA InputAvgFP InputAvgAP\n",
              "Acıbadem University                           0.000000   0.000000   0.000000\n",
              "Adnan Menderes University                     7.345998   0.000000   0.000000\n",
              "Akdeniz University                           35.727366   0.000000   7.013915\n",
              "Ankara University                             0.000000   0.000000   0.000000\n",
              "Atatürk University                            0.000000   6.358959   6.824332\n",
              "Atılım University                             0.000000   0.000000   0.000000\n",
              "Bartın University                             0.000000   0.000000   0.000000\n",
              "Bilkent University                            0.000000   0.000000   0.000000\n",
              "Boğazıçı University                           0.000000   0.000000   0.000000\n",
              "Bülent Ecevit University                      0.000000   0.000000  17.258293\n",
              "Canakkale University                         17.158790   0.000000  64.807529\n",
              "Celal Bayar University                        0.000000  55.000871  38.062931\n",
              "Cukurova Uni                                  0.000000   0.000000   0.000000\n",
              "Cumhuriyet University                         3.105325   0.000000  24.488855\n",
              "December 7 University of Kilis                0.000000   0.000000   0.000000\n",
              "Dokuz Eylül University                       36.193129  76.462461  26.905590\n",
              "Düzce University                              0.000000   0.000000  18.390329\n",
              "Ege University                                0.000000   0.000000   0.000000\n",
              "Erciyes University                            0.000000   0.000000   0.000000\n",
              "Fırat University                              0.000000  49.705747   0.000000\n",
              "Gazi University                               0.000000 138.607427 156.944283\n",
              "Gaziantep University                          0.000000   0.000000   0.000000\n",
              "Gaziosman Paşa University                     0.000000   0.000000   0.000000\n",
              "Gebze Technical University                    0.000000   9.135667   1.806920\n",
              "Hacettepe University                          0.000000   0.000000   0.000000\n",
              "Hitit University                              0.000000   0.000000   0.000000\n",
              "Inönü University                              0.000000   0.000000  22.940892\n",
              "Istanbul Medipol University                   4.462654   0.000000   0.000000\n",
              "Istanbul Technical University               123.207670   0.000000  82.658060\n",
              "Istanbul University                           0.000000   0.000000   0.000000\n",
              "İzmir Institute of Technology                 0.000000   0.000000   0.000000\n",
              "Izmir University of Economics                 0.000000   0.000000   0.000000\n",
              "Karabük University                            0.000000   0.000000   8.397789\n",
              "Karadeniz Technical University                0.000000   0.000000  12.366380\n",
              "Koç University                                0.000000   0.000000   0.000000\n",
              "Kocaeli University                            0.000000   0.000000  39.548432\n",
              "Marmara University                            0.000000   0.000000   0.000000\n",
              "Mersin University                             0.000000   0.000000   0.000000\n",
              "Middle East Technical University            263.208739   0.000000   0.000000\n",
              "Ondokuz Mayis University                      0.000000   0.000000  35.994723\n",
              "Ozyegin University                            0.000000   0.000000   0.000000\n",
              "Pamukkale University                          0.000000   0.000000  50.738548\n",
              "Sabancı University                            0.000000   0.000000   0.000000\n",
              "Sakarya University                            5.402703   0.000000  53.972973\n",
              "Selcuk University                            21.357907   0.000000  12.167030\n",
              "Suleyman Demirel University                  30.995800   0.000000  40.259362\n",
              "TOBB University of Economics and Technology   0.000000   0.000000   0.000000\n",
              "Uludağ University                             0.000000   0.000000   0.000000\n",
              "Yeditepe University                           0.000000   0.000000   0.000000\n",
              "Yıldız Technical University                   0.000000   4.065451  84.791000\n",
              "                                            InputAvgASSP InputAvgRA\n",
              "Acıbadem University                             0.000000    0.00000\n",
              "Adnan Menderes University                      63.937443   52.13799\n",
              "Akdeniz University                             44.154685    0.00000\n",
              "Ankara University                               0.000000    0.00000\n",
              "Atatürk University                             69.056716   43.19244\n",
              "Atılım University                               0.000000    0.00000\n",
              "Bartın University                               0.000000    0.00000\n",
              "Bilkent University                              0.000000    0.00000\n",
              "Boğazıçı University                             0.000000    0.00000\n",
              "Bülent Ecevit University                      100.213961  156.52759\n",
              "Canakkale University                          207.524832  102.50814\n",
              "Celal Bayar University                         72.827773  175.16126\n",
              "Cukurova Uni                                    0.000000    0.00000\n",
              "Cumhuriyet University                         127.346203  165.78301\n",
              "December 7 University of Kilis                  0.000000    0.00000\n",
              "Dokuz Eylül University                          0.000000    0.00000\n",
              "Düzce University                               89.877646   89.49479\n",
              "Ege University                                  0.000000    0.00000\n",
              "Erciyes University                              0.000000    0.00000\n",
              "Fırat University                                0.000000   86.86962\n",
              "Gazi University                                 0.000000  178.35859\n",
              "Gaziantep University                            0.000000    0.00000\n",
              "Gaziosman Paşa University                       0.000000    0.00000\n",
              "Gebze Technical University                      0.000000   90.54937\n",
              "Hacettepe University                            0.000000    0.00000\n",
              "Hitit University                                0.000000    0.00000\n",
              "Inönü University                                0.000000   48.68534\n",
              "Istanbul Medipol University                   123.072994    0.00000\n",
              "Istanbul Technical University                 125.717594   78.86379\n",
              "Istanbul University                             0.000000    0.00000\n",
              "İzmir Institute of Technology                   0.000000    0.00000\n",
              "Izmir University of Economics                   0.000000    0.00000\n",
              "Karabük University                            100.797801    0.00000\n",
              "Karadeniz Technical University                 24.928286  327.20783\n",
              "Koç University                                  0.000000    0.00000\n",
              "Kocaeli University                            115.973816  101.24355\n",
              "Marmara University                              0.000000    0.00000\n",
              "Mersin University                               0.000000    0.00000\n",
              "Middle East Technical University                0.000000  216.11882\n",
              "Ondokuz Mayis University                        0.000000  222.30569\n",
              "Ozyegin University                              0.000000    0.00000\n",
              "Pamukkale University                            3.401275   42.39870\n",
              "Sabancı University                              0.000000    0.00000\n",
              "Sakarya University                            166.864865   59.21622\n",
              "Selcuk University                               2.281418  165.50729\n",
              "Suleyman Demirel University                   112.648978  182.89010\n",
              "TOBB University of Economics and Technology     0.000000    0.00000\n",
              "Uludağ University                               0.000000    0.00000\n",
              "Yeditepe University                             0.000000    0.00000\n",
              "Yıldız Technical University                   107.478905    0.00000\n",
              "\n",
              "$slack_output\n",
              "                                             OutputHI   OutputTA OutputGP\n",
              "Acıbadem University                          0.000000   0.000000  0.00000\n",
              "Adnan Menderes University                    9.541523 204.747712  0.00000\n",
              "Akdeniz University                           0.000000   0.000000  0.00000\n",
              "Ankara University                            0.000000   0.000000  0.00000\n",
              "Atatürk University                           0.000000 183.880384  0.00000\n",
              "Atılım University                            0.000000   0.000000  0.00000\n",
              "Bartın University                            0.000000   0.000000  0.00000\n",
              "Bilkent University                           0.000000   0.000000  0.00000\n",
              "Boğazıçı University                          0.000000   0.000000  0.00000\n",
              "Bülent Ecevit University                     0.000000   9.685097  0.00000\n",
              "Canakkale University                         9.569860   0.000000  0.00000\n",
              "Celal Bayar University                       0.000000   0.000000  0.00000\n",
              "Cukurova Uni                                 0.000000   0.000000  0.00000\n",
              "Cumhuriyet University                        0.000000 218.654685  0.00000\n",
              "December 7 University of Kilis               0.000000   0.000000  0.00000\n",
              "Dokuz Eylül University                       0.000000 121.366930  0.00000\n",
              "Düzce University                             0.000000  56.195593  0.00000\n",
              "Ege University                               0.000000   0.000000  0.00000\n",
              "Erciyes University                           0.000000   0.000000  0.00000\n",
              "Fırat University                             0.000000  99.238937  0.00000\n",
              "Gazi University                             10.968622   0.000000  0.00000\n",
              "Gaziantep University                         0.000000   0.000000  0.00000\n",
              "Gaziosman Paşa University                    0.000000   0.000000  0.00000\n",
              "Gebze Technical University                   5.811918   0.000000  0.00000\n",
              "Hacettepe University                         0.000000   0.000000  0.00000\n",
              "Hitit University                             0.000000   0.000000  0.00000\n",
              "Inönü University                             2.695660  34.846980  0.00000\n",
              "Istanbul Medipol University                  6.009637 263.494290  0.00000\n",
              "Istanbul Technical University                0.000000 238.277997  0.00000\n",
              "Istanbul University                          0.000000   0.000000  0.00000\n",
              "İzmir Institute of Technology                0.000000   0.000000  0.00000\n",
              "Izmir University of Economics                0.000000   0.000000  0.00000\n",
              "Karabük University                           0.000000  22.385146  0.00000\n",
              "Karadeniz Technical University               0.000000   0.000000 71.88312\n",
              "Koç University                               0.000000   0.000000  0.00000\n",
              "Kocaeli University                           0.000000   0.000000  0.00000\n",
              "Marmara University                           0.000000   0.000000  0.00000\n",
              "Mersin University                            0.000000   0.000000  0.00000\n",
              "Middle East Technical University             0.000000 326.840984  0.00000\n",
              "Ondokuz Mayis University                     1.688129  82.514318  0.00000\n",
              "Ozyegin University                           0.000000   0.000000  0.00000\n",
              "Pamukkale University                         0.000000  11.415377  0.00000\n",
              "Sabancı University                           0.000000   0.000000  0.00000\n",
              "Sakarya University                           1.215843 129.411633  0.00000\n",
              "Selcuk University                            0.000000 117.373395  0.00000\n",
              "Suleyman Demirel University                  3.052177   0.000000  0.00000\n",
              "TOBB University of Economics and Technology  0.000000   0.000000  0.00000\n",
              "Uludağ University                            0.000000   0.000000  0.00000\n",
              "Yeditepe University                          0.000000   0.000000  0.00000\n",
              "Yıldız Technical University                  0.000000   0.000000 22.29645\n"
            ]
          },
          "metadata": {}
        }
      ]
    },
    {
      "cell_type": "markdown",
      "source": [
        "# Beta Regression Analysis\n"
      ],
      "metadata": {
        "id": "ZnrVLl_deVKq"
      }
    },
    {
      "cell_type": "markdown",
      "source": [
        "\n",
        "\n",
        "> Preparing the data for the beta regression. DEA scores are converted into the scale ranging from 0 to 1 and added to the original data frame.\n",
        "\n"
      ],
      "metadata": {
        "id": "bR84L2FufqnT"
      }
    },
    {
      "cell_type": "code",
      "source": [
        "i<-0\n",
        "mybiglist <- c()\n",
        "for(name in results$score){\n",
        "    i<-i+1\n",
        "    mybiglist[[i]]<-1/results$score[[i]]\n",
        "\n",
        "}\n",
        "\n",
        "my_data$DEA <- mybiglist\n",
        "my_data$DEA <- as.integer(my_data$DEA)\n",
        "\n",
        "\n",
        "dea_data<-my_data[,c(\"DEA\")]\n",
        "dea_data<-(dea_data*49+0.5)/50\n",
        "my_data$DEA_Transform<-dea_data"
      ],
      "metadata": {
        "id": "8wUDKMBocZa9"
      },
      "execution_count": 23,
      "outputs": []
    },
    {
      "cell_type": "markdown",
      "source": [
        "\n",
        "\n",
        "> Running the beta regression with a logit link function. In the model, DEA scores are used as the dependent variable and age, size and ownership status (private vs public) of the university as the independent variables.\n",
        "\n"
      ],
      "metadata": {
        "id": "WxEkQY7FgrOg"
      }
    },
    {
      "cell_type": "code",
      "source": [
        "dea_logit<-betareg(DEA_Transform~Age+Status+Size, data=my_data, link=\"logit\")\n",
        "summary(dea_logit)"
      ],
      "metadata": {
        "colab": {
          "base_uri": "https://localhost:8080/",
          "height": 503
        },
        "id": "C-PfBUiGgeVw",
        "outputId": "93034e0b-6d53-4ed0-d230-075c2dab32ce"
      },
      "execution_count": 24,
      "outputs": [
        {
          "output_type": "display_data",
          "data": {
            "text/plain": [
              "\n",
              "Call:\n",
              "betareg(formula = DEA_Transform ~ Age + Status + Size, data = my_data, \n",
              "    link = \"logit\")\n",
              "\n",
              "Standardized weighted residuals 2:\n",
              "    Min      1Q  Median      3Q     Max \n",
              "-1.5009 -0.5232 -0.3103  0.5065  1.4431 \n",
              "\n",
              "Coefficients (mean model with logit link):\n",
              "              Estimate Std. Error z value Pr(>|z|)  \n",
              "(Intercept)   0.199278   0.649119   0.307    0.759  \n",
              "Age           0.009205   0.011424   0.806    0.420  \n",
              "StatusPublic  0.349876   0.631253   0.554    0.579  \n",
              "SizeM        -1.201639   0.754743  -1.592    0.111  \n",
              "SizeS         0.563527   0.784370   0.718    0.472  \n",
              "SizeXL       -1.367874   0.588034  -2.326    0.020 *\n",
              "\n",
              "Phi coefficients (precision model with identity link):\n",
              "      Estimate Std. Error z value Pr(>|z|)    \n",
              "(phi)  0.59563    0.09534   6.248 4.17e-10 ***\n",
              "---\n",
              "Signif. codes:  0 '***' 0.001 '**' 0.01 '*' 0.05 '.' 0.1 ' ' 1 \n",
              "\n",
              "Type of estimator: ML (maximum likelihood)\n",
              "Log-likelihood:  77.6 on 7 Df\n",
              "Pseudo R-squared: 0.2729\n",
              "Number of iterations: 15 (BFGS) + 3 (Fisher scoring) "
            ]
          },
          "metadata": {}
        }
      ]
    }
  ]
}